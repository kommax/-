{
 "cells": [
  {
   "cell_type": "markdown",
   "id": "bcae5d8f",
   "metadata": {},
   "source": [
    "# Промежуточная аттестация. Распознавание рукописных цифр из набора данных MNIST с помощью Keras"
   ]
  },
  {
   "cell_type": "code",
   "execution_count": 1,
   "id": "6e3dacbe",
   "metadata": {},
   "outputs": [],
   "source": [
    "import numpy as np\n",
    "\n",
    "#Глубокое обучение. Построение нейтонных сетей\n",
    "from tensorflow.keras import Sequential #Последовательная нейронная сеть (архитектура)\n",
    "from tensorflow.keras.layers import Dense #Полносвязные слои.\n",
    "from tensorflow.keras.datasets import mnist #классификация изображений\n",
    "from tensorflow.keras import utils\n",
    "from tensorflow.keras.preprocessing import image\n",
    "\n",
    "from PIL import Image #Работа с изображенниями\n",
    "\n",
    "\n",
    "import matplotlib.pyplot as plt #Визуализация данных\n",
    "\n",
    "%matplotlib inline"
   ]
  },
  {
   "cell_type": "markdown",
   "id": "8b924548",
   "metadata": {},
   "source": [
    "#### установка библиотеки, так как не определялась"
   ]
  },
  {
   "cell_type": "code",
   "execution_count": 2,
   "id": "78d9bcec",
   "metadata": {},
   "outputs": [
    {
     "name": "stdout",
     "output_type": "stream",
     "text": [
      "Requirement already satisfied: tensorflow in c:\\users\\andru\\anaconda3\\lib\\site-packages (2.11.0)\n",
      "Requirement already satisfied: tensorflow-intel==2.11.0 in c:\\users\\andru\\anaconda3\\lib\\site-packages (from tensorflow) (2.11.0)\n",
      "Requirement already satisfied: tensorboard<2.12,>=2.11 in c:\\users\\andru\\anaconda3\\lib\\site-packages (from tensorflow-intel==2.11.0->tensorflow) (2.11.2)\n",
      "Requirement already satisfied: gast<=0.4.0,>=0.2.1 in c:\\users\\andru\\anaconda3\\lib\\site-packages (from tensorflow-intel==2.11.0->tensorflow) (0.4.0)\n",
      "Requirement already satisfied: astunparse>=1.6.0 in c:\\users\\andru\\anaconda3\\lib\\site-packages (from tensorflow-intel==2.11.0->tensorflow) (1.6.3)\n",
      "Requirement already satisfied: protobuf<3.20,>=3.9.2 in c:\\users\\andru\\anaconda3\\lib\\site-packages (from tensorflow-intel==2.11.0->tensorflow) (3.19.6)\n",
      "Requirement already satisfied: h5py>=2.9.0 in c:\\users\\andru\\anaconda3\\lib\\site-packages (from tensorflow-intel==2.11.0->tensorflow) (3.7.0)\n",
      "Requirement already satisfied: wrapt>=1.11.0 in c:\\users\\andru\\anaconda3\\lib\\site-packages (from tensorflow-intel==2.11.0->tensorflow) (1.14.1)\n",
      "Requirement already satisfied: setuptools in c:\\users\\andru\\anaconda3\\lib\\site-packages (from tensorflow-intel==2.11.0->tensorflow) (63.4.1)\n",
      "Requirement already satisfied: six>=1.12.0 in c:\\users\\andru\\anaconda3\\lib\\site-packages (from tensorflow-intel==2.11.0->tensorflow) (1.16.0)\n",
      "Requirement already satisfied: termcolor>=1.1.0 in c:\\users\\andru\\anaconda3\\lib\\site-packages (from tensorflow-intel==2.11.0->tensorflow) (2.2.0)\n",
      "Requirement already satisfied: absl-py>=1.0.0 in c:\\users\\andru\\anaconda3\\lib\\site-packages (from tensorflow-intel==2.11.0->tensorflow) (1.4.0)\n",
      "Requirement already satisfied: grpcio<2.0,>=1.24.3 in c:\\users\\andru\\anaconda3\\lib\\site-packages (from tensorflow-intel==2.11.0->tensorflow) (1.51.3)\n",
      "Requirement already satisfied: flatbuffers>=2.0 in c:\\users\\andru\\anaconda3\\lib\\site-packages (from tensorflow-intel==2.11.0->tensorflow) (23.1.21)\n",
      "Requirement already satisfied: numpy>=1.20 in c:\\users\\andru\\anaconda3\\lib\\site-packages (from tensorflow-intel==2.11.0->tensorflow) (1.21.5)\n",
      "Requirement already satisfied: opt-einsum>=2.3.2 in c:\\users\\andru\\anaconda3\\lib\\site-packages (from tensorflow-intel==2.11.0->tensorflow) (3.3.0)\n",
      "Requirement already satisfied: typing-extensions>=3.6.6 in c:\\users\\andru\\anaconda3\\lib\\site-packages (from tensorflow-intel==2.11.0->tensorflow) (4.3.0)\n",
      "Requirement already satisfied: tensorflow-estimator<2.12,>=2.11.0 in c:\\users\\andru\\anaconda3\\lib\\site-packages (from tensorflow-intel==2.11.0->tensorflow) (2.11.0)\n",
      "Requirement already satisfied: tensorflow-io-gcs-filesystem>=0.23.1 in c:\\users\\andru\\anaconda3\\lib\\site-packages (from tensorflow-intel==2.11.0->tensorflow) (0.31.0)\n",
      "Requirement already satisfied: packaging in c:\\users\\andru\\anaconda3\\lib\\site-packages (from tensorflow-intel==2.11.0->tensorflow) (21.3)\n",
      "Requirement already satisfied: google-pasta>=0.1.1 in c:\\users\\andru\\anaconda3\\lib\\site-packages (from tensorflow-intel==2.11.0->tensorflow) (0.2.0)\n",
      "Requirement already satisfied: keras<2.12,>=2.11.0 in c:\\users\\andru\\anaconda3\\lib\\site-packages (from tensorflow-intel==2.11.0->tensorflow) (2.11.0)\n",
      "Requirement already satisfied: libclang>=13.0.0 in c:\\users\\andru\\anaconda3\\lib\\site-packages (from tensorflow-intel==2.11.0->tensorflow) (15.0.6.1)\n",
      "Requirement already satisfied: wheel<1.0,>=0.23.0 in c:\\users\\andru\\anaconda3\\lib\\site-packages (from astunparse>=1.6.0->tensorflow-intel==2.11.0->tensorflow) (0.37.1)\n",
      "Requirement already satisfied: markdown>=2.6.8 in c:\\users\\andru\\anaconda3\\lib\\site-packages (from tensorboard<2.12,>=2.11->tensorflow-intel==2.11.0->tensorflow) (3.3.4)\n",
      "Requirement already satisfied: google-auth<3,>=1.6.3 in c:\\users\\andru\\anaconda3\\lib\\site-packages (from tensorboard<2.12,>=2.11->tensorflow-intel==2.11.0->tensorflow) (2.16.1)\n",
      "Requirement already satisfied: werkzeug>=1.0.1 in c:\\users\\andru\\anaconda3\\lib\\site-packages (from tensorboard<2.12,>=2.11->tensorflow-intel==2.11.0->tensorflow) (2.0.3)\n",
      "Requirement already satisfied: requests<3,>=2.21.0 in c:\\users\\andru\\anaconda3\\lib\\site-packages (from tensorboard<2.12,>=2.11->tensorflow-intel==2.11.0->tensorflow) (2.28.1)\n",
      "Requirement already satisfied: tensorboard-data-server<0.7.0,>=0.6.0 in c:\\users\\andru\\anaconda3\\lib\\site-packages (from tensorboard<2.12,>=2.11->tensorflow-intel==2.11.0->tensorflow) (0.6.1)\n",
      "Requirement already satisfied: google-auth-oauthlib<0.5,>=0.4.1 in c:\\users\\andru\\anaconda3\\lib\\site-packages (from tensorboard<2.12,>=2.11->tensorflow-intel==2.11.0->tensorflow) (0.4.6)\n",
      "Requirement already satisfied: tensorboard-plugin-wit>=1.6.0 in c:\\users\\andru\\anaconda3\\lib\\site-packages (from tensorboard<2.12,>=2.11->tensorflow-intel==2.11.0->tensorflow) (1.8.1)\n",
      "Requirement already satisfied: pyparsing!=3.0.5,>=2.0.2 in c:\\users\\andru\\anaconda3\\lib\\site-packages (from packaging->tensorflow-intel==2.11.0->tensorflow) (3.0.9)\n",
      "Requirement already satisfied: pyasn1-modules>=0.2.1 in c:\\users\\andru\\anaconda3\\lib\\site-packages (from google-auth<3,>=1.6.3->tensorboard<2.12,>=2.11->tensorflow-intel==2.11.0->tensorflow) (0.2.8)\n",
      "Requirement already satisfied: cachetools<6.0,>=2.0.0 in c:\\users\\andru\\anaconda3\\lib\\site-packages (from google-auth<3,>=1.6.3->tensorboard<2.12,>=2.11->tensorflow-intel==2.11.0->tensorflow) (5.3.0)\n",
      "Requirement already satisfied: rsa<5,>=3.1.4 in c:\\users\\andru\\anaconda3\\lib\\site-packages (from google-auth<3,>=1.6.3->tensorboard<2.12,>=2.11->tensorflow-intel==2.11.0->tensorflow) (4.9)\n",
      "Requirement already satisfied: requests-oauthlib>=0.7.0 in c:\\users\\andru\\anaconda3\\lib\\site-packages (from google-auth-oauthlib<0.5,>=0.4.1->tensorboard<2.12,>=2.11->tensorflow-intel==2.11.0->tensorflow) (1.3.1)\n",
      "Requirement already satisfied: charset-normalizer<3,>=2 in c:\\users\\andru\\anaconda3\\lib\\site-packages (from requests<3,>=2.21.0->tensorboard<2.12,>=2.11->tensorflow-intel==2.11.0->tensorflow) (2.0.4)\n",
      "Requirement already satisfied: idna<4,>=2.5 in c:\\users\\andru\\anaconda3\\lib\\site-packages (from requests<3,>=2.21.0->tensorboard<2.12,>=2.11->tensorflow-intel==2.11.0->tensorflow) (3.3)\n",
      "Requirement already satisfied: certifi>=2017.4.17 in c:\\users\\andru\\anaconda3\\lib\\site-packages (from requests<3,>=2.21.0->tensorboard<2.12,>=2.11->tensorflow-intel==2.11.0->tensorflow) (2022.9.14)\n",
      "Requirement already satisfied: urllib3<1.27,>=1.21.1 in c:\\users\\andru\\anaconda3\\lib\\site-packages (from requests<3,>=2.21.0->tensorboard<2.12,>=2.11->tensorflow-intel==2.11.0->tensorflow) (1.26.11)\n",
      "Requirement already satisfied: pyasn1<0.5.0,>=0.4.6 in c:\\users\\andru\\anaconda3\\lib\\site-packages (from pyasn1-modules>=0.2.1->google-auth<3,>=1.6.3->tensorboard<2.12,>=2.11->tensorflow-intel==2.11.0->tensorflow) (0.4.8)\n",
      "Requirement already satisfied: oauthlib>=3.0.0 in c:\\users\\andru\\anaconda3\\lib\\site-packages (from requests-oauthlib>=0.7.0->google-auth-oauthlib<0.5,>=0.4.1->tensorboard<2.12,>=2.11->tensorflow-intel==2.11.0->tensorflow) (3.2.2)\n",
      "Note: you may need to restart the kernel to use updated packages.\n"
     ]
    }
   ],
   "source": [
    "pip install tensorflow "
   ]
  },
  {
   "cell_type": "markdown",
   "id": "4d6f4fb5",
   "metadata": {},
   "source": [
    "## Загружаем данные из датасета MNIST. Подготовка данных к обучению нейросети"
   ]
  },
  {
   "cell_type": "code",
   "execution_count": 3,
   "id": "e7dfb4d3",
   "metadata": {},
   "outputs": [],
   "source": [
    "(x_train_org, y_train_org), (x_test_org, y_test_org) = mnist.load_data()"
   ]
  },
  {
   "cell_type": "markdown",
   "id": "298cb072",
   "metadata": {},
   "source": [
    "### смотрим случайное изображение"
   ]
  },
  {
   "cell_type": "code",
   "execution_count": 4,
   "id": "22aa01d8",
   "metadata": {},
   "outputs": [
    {
     "data": {
      "image/png": "[encoded data removed]",
      "text/plain": [
       "<Figure size 640x480 with 1 Axes>"
      ]
     },
     "metadata": {},
     "output_type": "display_data"
    }
   ],
   "source": [
    "n = 800\n",
    "plt.imshow(Image.fromarray(x_test_org[n]).convert('RGBA'))\n",
    "plt.show()"
   ]
  },
  {
   "cell_type": "markdown",
   "id": "65ef3090",
   "metadata": {},
   "source": [
    "### преобразование данных"
   ]
  },
  {
   "cell_type": "code",
   "execution_count": 5,
   "id": "dcb9518d",
   "metadata": {},
   "outputs": [],
   "source": [
    "x_train = x_train_org.reshape(60000, 784)\n",
    "x_test = x_test_org.reshape(10000, 784)"
   ]
  },
  {
   "cell_type": "markdown",
   "id": "a1a9c73f",
   "metadata": {},
   "source": [
    "### Нормальзация данных"
   ]
  },
  {
   "cell_type": "code",
   "execution_count": 6,
   "id": "4d2a5964",
   "metadata": {},
   "outputs": [],
   "source": [
    "x_train = x_train.astype('float32')\n",
    "x_train = x_train/255\n",
    "\n",
    "x_test = x_test.astype('float32')\n",
    "x_test = x_test/255"
   ]
  },
  {
   "cell_type": "code",
   "execution_count": 7,
   "id": "56cd841e",
   "metadata": {},
   "outputs": [
    {
     "name": "stdout",
     "output_type": "stream",
     "text": [
      "9\n"
     ]
    }
   ],
   "source": [
    "print(y_train_org[n])"
   ]
  },
  {
   "cell_type": "markdown",
   "id": "db2a2dac",
   "metadata": {},
   "source": [
    "### преобразование в one hot encoding"
   ]
  },
  {
   "cell_type": "code",
   "execution_count": 8,
   "id": "4948c878",
   "metadata": {},
   "outputs": [],
   "source": [
    "y_train = utils.to_categorical(y_train_org, 10)\n",
    "y_test = utils.to_categorical(y_test_org, 10)"
   ]
  },
  {
   "cell_type": "code",
   "execution_count": 9,
   "id": "fe207749",
   "metadata": {},
   "outputs": [
    {
     "name": "stdout",
     "output_type": "stream",
     "text": [
      "[0. 1. 0. 0. 0. 0. 0. 0. 0. 0.]\n"
     ]
    }
   ],
   "source": [
    "print(y_test[900])"
   ]
  },
  {
   "cell_type": "markdown",
   "id": "8464a5ad",
   "metadata": {},
   "source": [
    "### правильный ответ в OHE"
   ]
  },
  {
   "cell_type": "code",
   "execution_count": 10,
   "id": "de9db0e6",
   "metadata": {},
   "outputs": [
    {
     "name": "stdout",
     "output_type": "stream",
     "text": [
      "(60000, 10)\n",
      "[0. 0. 0. 0. 0. 0. 0. 0. 0. 1.]\n"
     ]
    }
   ],
   "source": [
    "print(y_train.shape)\n",
    "print(y_train[n])"
   ]
  },
  {
   "cell_type": "markdown",
   "id": "44656460",
   "metadata": {},
   "source": [
    "# Создаем нейронную сеть"
   ]
  },
  {
   "cell_type": "code",
   "execution_count": 11,
   "id": "90c8ea94",
   "metadata": {},
   "outputs": [],
   "source": [
    "model = Sequential()"
   ]
  },
  {
   "cell_type": "markdown",
   "id": "feb6cc93",
   "metadata": {},
   "source": [
    "### добавляем слои нейронной сети"
   ]
  },
  {
   "cell_type": "code",
   "execution_count": 12,
   "id": "7a311b03",
   "metadata": {},
   "outputs": [],
   "source": [
    "model.add(Dense(128, input_dim=784, activation='relu'))\n",
    "model.add(Dense(128, activation='relu'))\n",
    "model.add(Dense(10, activation='softmax'))"
   ]
  },
  {
   "cell_type": "markdown",
   "id": "794c9355",
   "metadata": {},
   "source": [
    "### Компилируем нейронную сеть"
   ]
  },
  {
   "cell_type": "code",
   "execution_count": 13,
   "id": "a7a8b1f5",
   "metadata": {},
   "outputs": [
    {
     "name": "stdout",
     "output_type": "stream",
     "text": [
      "Model: \"sequential\"\n",
      "_________________________________________________________________\n",
      " Layer (type)                Output Shape              Param #   \n",
      "=================================================================\n",
      " dense (Dense)               (None, 128)               100480    \n",
      "                                                                 \n",
      " dense_1 (Dense)             (None, 128)               16512     \n",
      "                                                                 \n",
      " dense_2 (Dense)             (None, 10)                1290      \n",
      "                                                                 \n",
      "=================================================================\n",
      "Total params: 118,282\n",
      "Trainable params: 118,282\n",
      "Non-trainable params: 0\n",
      "_________________________________________________________________\n",
      "None\n"
     ]
    }
   ],
   "source": [
    "model.compile(loss='categorical_crossentropy', optimizer='adam', metrics=['accuracy'])\n",
    "print(model.summary())"
   ]
  },
  {
   "cell_type": "markdown",
   "id": "cf2379f1",
   "metadata": {},
   "source": [
    "### Обучаем нейронную сеть"
   ]
  },
  {
   "cell_type": "code",
   "execution_count": 14,
   "id": "ee313c5c",
   "metadata": {},
   "outputs": [
    {
     "name": "stdout",
     "output_type": "stream",
     "text": [
      "Epoch 1/20\n",
      "240/240 [==============================] - 2s 3ms/step - loss: 0.4136 - accuracy: 0.8836 - val_loss: 0.1902 - val_accuracy: 0.9476\n",
      "Epoch 2/20\n",
      "240/240 [==============================] - 1s 3ms/step - loss: 0.1668 - accuracy: 0.9511 - val_loss: 0.1393 - val_accuracy: 0.9578\n",
      "Epoch 3/20\n",
      "240/240 [==============================] - 1s 3ms/step - loss: 0.1175 - accuracy: 0.9649 - val_loss: 0.1205 - val_accuracy: 0.9644\n",
      "Epoch 4/20\n",
      "240/240 [==============================] - 1s 3ms/step - loss: 0.0890 - accuracy: 0.9738 - val_loss: 0.1126 - val_accuracy: 0.9656\n",
      "Epoch 5/20\n",
      "240/240 [==============================] - 1s 3ms/step - loss: 0.0720 - accuracy: 0.9784 - val_loss: 0.1003 - val_accuracy: 0.9690\n",
      "Epoch 6/20\n",
      "240/240 [==============================] - 1s 3ms/step - loss: 0.0576 - accuracy: 0.9827 - val_loss: 0.0943 - val_accuracy: 0.9712\n",
      "Epoch 7/20\n",
      "240/240 [==============================] - 1s 3ms/step - loss: 0.0477 - accuracy: 0.9857 - val_loss: 0.0912 - val_accuracy: 0.9733\n",
      "Epoch 8/20\n",
      "240/240 [==============================] - 1s 3ms/step - loss: 0.0410 - accuracy: 0.9873 - val_loss: 0.0873 - val_accuracy: 0.9737\n",
      "Epoch 9/20\n",
      "240/240 [==============================] - 1s 3ms/step - loss: 0.0311 - accuracy: 0.9911 - val_loss: 0.0873 - val_accuracy: 0.9745\n",
      "Epoch 10/20\n",
      "240/240 [==============================] - 1s 3ms/step - loss: 0.0264 - accuracy: 0.9925 - val_loss: 0.0971 - val_accuracy: 0.9743\n",
      "Epoch 11/20\n",
      "240/240 [==============================] - 1s 3ms/step - loss: 0.0231 - accuracy: 0.9934 - val_loss: 0.0936 - val_accuracy: 0.9745\n",
      "Epoch 12/20\n",
      "240/240 [==============================] - 1s 3ms/step - loss: 0.0170 - accuracy: 0.9954 - val_loss: 0.1035 - val_accuracy: 0.9714\n",
      "Epoch 13/20\n",
      "240/240 [==============================] - 1s 3ms/step - loss: 0.0158 - accuracy: 0.9956 - val_loss: 0.0949 - val_accuracy: 0.9757\n",
      "Epoch 14/20\n",
      "240/240 [==============================] - 1s 3ms/step - loss: 0.0130 - accuracy: 0.9964 - val_loss: 0.1015 - val_accuracy: 0.9745\n",
      "Epoch 15/20\n",
      "240/240 [==============================] - 1s 3ms/step - loss: 0.0101 - accuracy: 0.9976 - val_loss: 0.1074 - val_accuracy: 0.9728\n",
      "Epoch 16/20\n",
      "240/240 [==============================] - 1s 3ms/step - loss: 0.0098 - accuracy: 0.9975 - val_loss: 0.1031 - val_accuracy: 0.9753\n",
      "Epoch 17/20\n",
      "240/240 [==============================] - 1s 3ms/step - loss: 0.0091 - accuracy: 0.9977 - val_loss: 0.1054 - val_accuracy: 0.9762\n",
      "Epoch 18/20\n",
      "240/240 [==============================] - 1s 3ms/step - loss: 0.0059 - accuracy: 0.9986 - val_loss: 0.1043 - val_accuracy: 0.9757\n",
      "Epoch 19/20\n",
      "240/240 [==============================] - 1s 3ms/step - loss: 0.0060 - accuracy: 0.9986 - val_loss: 0.1144 - val_accuracy: 0.9744\n",
      "Epoch 20/20\n",
      "240/240 [==============================] - 1s 3ms/step - loss: 0.0066 - accuracy: 0.9982 - val_loss: 0.1209 - val_accuracy: 0.9743\n"
     ]
    },
    {
     "data": {
      "text/plain": [
       "<keras.callbacks.History at 0x16690925310>"
      ]
     },
     "execution_count": 14,
     "metadata": {},
     "output_type": "execute_result"
    }
   ],
   "source": [
    "model.fit(x_train, y_train, batch_size=200, epochs=20, verbose=1, validation_split=0.2)"
   ]
  },
  {
   "cell_type": "markdown",
   "id": "3ecce530",
   "metadata": {},
   "source": [
    "### Проверка точности на тестовых данных"
   ]
  },
  {
   "cell_type": "code",
   "execution_count": 15,
   "id": "d9f744b2",
   "metadata": {},
   "outputs": [
    {
     "name": "stdout",
     "output_type": "stream",
     "text": [
      "313/313 [==============================] - 0s 1ms/step - loss: 0.1050 - accuracy: 0.9755\n"
     ]
    },
    {
     "data": {
      "text/plain": [
       "[0.1050138771533966, 0.9754999876022339]"
      ]
     },
     "execution_count": 15,
     "metadata": {},
     "output_type": "execute_result"
    }
   ],
   "source": [
    "model.evaluate(x_test, y_test)"
   ]
  },
  {
   "cell_type": "code",
   "execution_count": null,
   "id": "f74d5c26",
   "metadata": {},
   "outputs": [],
   "source": []
  }
 ],
 "metadata": {
  "kernelspec": {
   "display_name": "Python 3 (ipykernel)",
   "language": "python",
   "name": "python3"
  },
  "language_info": {
   "codemirror_mode": {
    "name": "ipython",
    "version": 3
   },
   "file_extension": ".py",
   "mimetype": "text/x-python",
   "name": "python",
   "nbconvert_exporter": "python",
   "pygments_lexer": "ipython3",
   "version": "3.9.13"
  }
 },
 "nbformat": 4,
 "nbformat_minor": 5
}
