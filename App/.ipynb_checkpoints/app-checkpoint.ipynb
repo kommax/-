{
 "cells": [
  {
   "cell_type": "code",
   "execution_count": 1,
   "id": "0e93fea9",
   "metadata": {},
   "outputs": [],
   "source": [
    "# Создаем пользовательское приложение для прогнозирования \"соотношения матрица-наполнитель\""
   ]
  },
  {
   "cell_type": "code",
   "execution_count": 2,
   "id": "19844c69",
   "metadata": {},
   "outputs": [],
   "source": [
    "# Импортируем необходимые библиотеки для нашего приложения\n",
    "import tensorflow as tf\n",
    "from tensorflow import keras\n",
    "from flask import Flask, request, render_template\n",
    "\n",
    "import os"
   ]
  },
  {
   "cell_type": "code",
   "execution_count": 3,
   "id": "e24b3dff",
   "metadata": {},
   "outputs": [
    {
     "data": {
      "text/plain": [
       "'C:\\\\Users\\\\komma\\\\datascientist\\\\VKR\\\\App'"
      ]
     },
     "execution_count": 3,
     "metadata": {},
     "output_type": "execute_result"
    }
   ],
   "source": [
    "current_dir = os.path.abspath(os.getcwd())\n",
    "current_dir"
   ]
  },
  {
   "cell_type": "code",
   "execution_count": 4,
   "id": "6ce740a8",
   "metadata": {},
   "outputs": [],
   "source": [
    "model_name = 'model2' # название папки с сохраненной моделью "
   ]
  },
  {
   "cell_type": "code",
   "execution_count": 5,
   "id": "0be09815",
   "metadata": {},
   "outputs": [],
   "source": [
    "# Загружаем модель и определяем параметры функции  -  будущие входы для модели (всего 12 параметров)\n",
    "\n",
    "def set_params(param1, param2, param3, param4, param5, param6, param7, param8, param9, param10, param11, param12):\n",
    "    print(current_dir + r\"/saved_models/\" + model_name + r\"/\")\n",
    "    model = keras.models.load_model(current_dir + r\"/saved_models/\" + model_name + r\"/\")\n",
    "    prediction = model.predict([param1, param2, param3, param4, param5, param6, param7, param8, param9, param10, param11, param12])\n",
    "\n",
    "    return prediction[0][0]"
   ]
  },
  {
   "cell_type": "code",
   "execution_count": 6,
   "id": "b2baf7f8",
   "metadata": {},
   "outputs": [],
   "source": [
    "app = Flask(__name__, template_folder='templates')\n",
    "app.config['TEMPLATES_AUTO_RELOAD'] = True"
   ]
  },
  {
   "cell_type": "code",
   "execution_count": null,
   "id": "e52d8aed",
   "metadata": {
    "scrolled": true
   },
   "outputs": [
    {
     "name": "stdout",
     "output_type": "stream",
     "text": [
      " * Serving Flask app '__main__'\n",
      " * Debug mode: off\n"
     ]
    },
    {
     "name": "stderr",
     "output_type": "stream",
     "text": [
      "WARNING: This is a development server. Do not use it in a production deployment. Use a production WSGI server instead.\n",
      " * Running on http://127.0.0.1:5000\n",
      "Press CTRL+C to quit\n"
     ]
    },
    {
     "name": "stdout",
     "output_type": "stream",
     "text": [
      "1\n",
      "1\n",
      "1\n",
      "1\n",
      "1\n",
      "1\n",
      "1\n",
      "1\n",
      "1\n",
      "1\n",
      "1\n",
      "1\n",
      "C:\\Users\\komma\\datascientist\\VKR\\App/saved_models/model2/\n",
      "1/1 [==============================] - 0s 250ms/step\n"
     ]
    },
    {
     "name": "stderr",
     "output_type": "stream",
     "text": [
      "127.0.0.1 - - [07/Apr/2023 19:50:30] \"POST / HTTP/1.1\" 200 -\n"
     ]
    },
    {
     "name": "stdout",
     "output_type": "stream",
     "text": [
      "1\n",
      "1\n",
      "1\n",
      "1\n",
      "1\n",
      "1\n",
      "1\n",
      "1\n",
      "1\n",
      "1\n",
      "1\n",
      "1\n",
      "C:\\Users\\komma\\datascientist\\VKR\\App/saved_models/model2/\n",
      "1/1 [==============================] - 0s 109ms/step\n"
     ]
    },
    {
     "name": "stderr",
     "output_type": "stream",
     "text": [
      "127.0.0.1 - - [07/Apr/2023 19:50:50] \"POST / HTTP/1.1\" 200 -\n"
     ]
    }
   ],
   "source": [
    "@app.route('/', methods=['post', 'get'])\n",
    "\n",
    "def app_calculation():\n",
    "    param_lst = []\n",
    "    message = ''\n",
    "    if request.method == 'POST':        \n",
    "        # получим данные из наших форм и кладем их в список, который затем передадим функции set_params\n",
    "        for i in range(1,13,1):\n",
    "            param = request.form.get(f'param{i}')\n",
    "            print (param)\n",
    "            param_lst.append(float(param))\n",
    "            \n",
    "        message = set_params(*param_lst)\n",
    "\n",
    "    # указываем шаблон и прототип сайта для вывода    \n",
    "    return render_template(\"index.html\", message=message) \n",
    "\n",
    "# Запускаем приложение  \n",
    "app.run()"
   ]
  },
  {
   "cell_type": "code",
   "execution_count": null,
   "id": "bcbde178",
   "metadata": {},
   "outputs": [],
   "source": []
  }
 ],
 "metadata": {
  "kernelspec": {
   "display_name": "Python 3 (ipykernel)",
   "language": "python",
   "name": "python3"
  },
  "language_info": {
   "codemirror_mode": {
    "name": "ipython",
    "version": 3
   },
   "file_extension": ".py",
   "mimetype": "text/x-python",
   "name": "python",
   "nbconvert_exporter": "python",
   "pygments_lexer": "ipython3",
   "version": "3.10.9"
  }
 },
 "nbformat": 4,
 "nbformat_minor": 5
}
